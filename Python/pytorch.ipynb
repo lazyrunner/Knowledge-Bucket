{
 "cells": [
  {
   "cell_type": "markdown",
   "id": "6de7c80b-0ef4-4bff-b867-f51131d1a583",
   "metadata": {},
   "source": [
    "# Tutorial for pytorch"
   ]
  },
  {
   "cell_type": "code",
   "execution_count": 25,
   "id": "b88acfd2-5bfd-4159-b4c0-5b998d92804a",
   "metadata": {},
   "outputs": [],
   "source": [
    "# To install\n",
    "# conda install pytorch torchvision torchaudio cpuonly -c pytorch\n",
    "import torch\n",
    "import numpy as np"
   ]
  },
  {
   "cell_type": "markdown",
   "id": "72df3943-7771-4f91-9eae-e3c01d76edbb",
   "metadata": {},
   "source": [
    "---"
   ]
  },
  {
   "cell_type": "markdown",
   "id": "7f918c67-5eee-4c6c-9e25-db7b570be3cd",
   "metadata": {},
   "source": [
    "## Tensor Basics"
   ]
  },
  {
   "cell_type": "markdown",
   "id": "67177830-6a22-48a5-8cb2-be0e8dbd9afc",
   "metadata": {},
   "source": [
    "In pytorch everything is tensor (similar to array)"
   ]
  },
  {
   "cell_type": "markdown",
   "id": "2f83d991-5bcf-4600-b8b5-93fb2c67f7c9",
   "metadata": {},
   "source": [
    "### Tensor creation"
   ]
  },
  {
   "cell_type": "code",
   "execution_count": 31,
   "id": "e7c05420-62df-4d7c-829a-cbffed28d322",
   "metadata": {},
   "outputs": [
    {
     "name": "stdout",
     "output_type": "stream",
     "text": [
      "tensor([-1.7401e-30])\n",
      "tensor([-4.6819e-02,  3.0630e-41, -3.3776e-02])\n",
      "tensor([[0.5844, 0.1893],\n",
      "        [0.3248, 0.2472]])\n",
      "tensor([[[0., 0.],\n",
      "         [0., 0.]],\n",
      "\n",
      "        [[0., 0.],\n",
      "         [0., 0.]]])\n",
      "tensor([[1., 1.],\n",
      "        [1., 1.]])\n",
      "tensor([2.5000, 4.0000, 6.0000])\n",
      "tensor([1., 1., 1., 1., 1.], requires_grad=True)\n"
     ]
    }
   ],
   "source": [
    "# create empty torch \n",
    "# scalar\n",
    "y = torch.empty(1)\n",
    "print(y)\n",
    "# 1D\n",
    "a = torch.empty(3)\n",
    "print(a)\n",
    "\n",
    "# 2D\n",
    "b = torch.rand(2,2)\n",
    "print(b)\n",
    "\n",
    "# 3D\n",
    "c = torch.zeros(2,2,2)\n",
    "print(c)\n",
    "\n",
    "# ones\n",
    "d = torch.ones(2,2)\n",
    "print(d)\n",
    "\n",
    "# create from list\n",
    "e = torch.tensor([2.5,4,6])\n",
    "print(e)\n",
    "\n",
    "# with gradient calculation\n",
    "x = torch.ones(5, requires_grad = True)\n",
    "print(x)"
   ]
  },
  {
   "cell_type": "markdown",
   "id": "916f5902-7b75-49cd-b15e-03f6ce74c0f5",
   "metadata": {},
   "source": [
    "### Tensor basic functions"
   ]
  },
  {
   "cell_type": "code",
   "execution_count": 22,
   "id": "1f2c9fb5-5479-4f01-b7ab-c4ffb5772bf5",
   "metadata": {},
   "outputs": [
    {
     "name": "stdout",
     "output_type": "stream",
     "text": [
      "torch.float32\n",
      "torch.Size([2, 2])\n",
      "tensor([0.7329, 0.9406])\n",
      "tensor(0.7329)\n",
      "0.7329225540161133\n"
     ]
    }
   ],
   "source": [
    "# see datatype\n",
    "print(a.dtype)\n",
    "\n",
    "# see size\n",
    "print(b.size())\n",
    "\n",
    "# slicing  - first row\n",
    "print(b[:,0])\n",
    "\n",
    "# get specific element\n",
    "print(b[0,0])\n",
    "\n",
    "# to get actual value in case of 1 element in tensor\n",
    "print(b[0,0].item())"
   ]
  },
  {
   "cell_type": "markdown",
   "id": "a946ec5b-0036-459c-934d-9ea22f64bb8f",
   "metadata": {},
   "source": [
    "### Tensor arithmetic function"
   ]
  },
  {
   "cell_type": "code",
   "execution_count": 23,
   "id": "1e456c0c-1a46-4e81-8d94-c0d43812d91d",
   "metadata": {},
   "outputs": [
    {
     "name": "stdout",
     "output_type": "stream",
     "text": [
      "tensor([[0.3713, 0.6690],\n",
      "        [0.7962, 0.4409]])\n",
      "tensor([[0.4985, 0.3516],\n",
      "        [0.0425, 0.4392]])\n",
      "tensor([[0.8698, 1.0206],\n",
      "        [0.8387, 0.8801]])\n",
      "tensor([[0.8698, 1.0206],\n",
      "        [0.8387, 0.8801]])\n",
      "tensor([[0.8698, 1.0206],\n",
      "        [0.8387, 0.8801]])\n"
     ]
    }
   ],
   "source": [
    "x = torch.rand(2,2)\n",
    "y = torch.rand(2,2)\n",
    "print(x)\n",
    "print(y)\n",
    "\n",
    "# adding \n",
    "z = x + y\n",
    "print(z)\n",
    "\n",
    "z = torch.add(x,y)\n",
    "print(z)\n",
    "\n",
    "# inplace addition\n",
    "y.add_(x)\n",
    "print(y)"
   ]
  },
  {
   "cell_type": "markdown",
   "id": "8fc0d45b-ae8f-47d3-9dc3-31f0d90e34bc",
   "metadata": {},
   "source": [
    " Function with ****_**** does inplace modification."
   ]
  },
  {
   "cell_type": "markdown",
   "id": "1232166a-48d4-49d9-87d3-31a6600cdfb1",
   "metadata": {},
   "source": [
    "### Reshaping tensor"
   ]
  },
  {
   "cell_type": "code",
   "execution_count": 24,
   "id": "ee0ec415-6fab-4729-807b-ff0e48f0d822",
   "metadata": {},
   "outputs": [
    {
     "name": "stdout",
     "output_type": "stream",
     "text": [
      "tensor([[0.1063, 0.5462, 0.6963, 0.0658],\n",
      "        [0.8511, 0.1301, 0.3168, 0.7867],\n",
      "        [0.0139, 0.1199, 0.3417, 0.1384],\n",
      "        [0.1743, 0.2331, 0.5830, 0.1837]])\n",
      "tensor([0.1063, 0.5462, 0.6963, 0.0658, 0.8511, 0.1301, 0.3168, 0.7867, 0.0139,\n",
      "        0.1199, 0.3417, 0.1384, 0.1743, 0.2331, 0.5830, 0.1837])\n",
      "tensor([[0.1063, 0.5462, 0.6963, 0.0658, 0.8511, 0.1301, 0.3168, 0.7867],\n",
      "        [0.0139, 0.1199, 0.3417, 0.1384, 0.1743, 0.2331, 0.5830, 0.1837]])\n"
     ]
    }
   ],
   "source": [
    "x = torch.rand(4,4)\n",
    "print(x)\n",
    "# make 1D\n",
    "y = x.view(16)\n",
    "print(y)\n",
    "\n",
    "# don't mention dimension\n",
    "y = x.view(-1,8)\n",
    "print(y)"
   ]
  },
  {
   "cell_type": "markdown",
   "id": "f9b4ffea-cfa7-484d-8867-a0d12c55dcec",
   "metadata": {},
   "source": [
    "---\n"
   ]
  },
  {
   "cell_type": "markdown",
   "id": "ff13afb5-ad33-49a6-980a-9bb5d932aa67",
   "metadata": {},
   "source": [
    "### Tensor and numpy"
   ]
  },
  {
   "cell_type": "markdown",
   "id": "7a6e5f78-4bbf-464d-9640-03eed39aa89f",
   "metadata": {},
   "source": [
    "Create numpy array from tensor"
   ]
  },
  {
   "cell_type": "code",
   "execution_count": 26,
   "id": "d856377f-d52f-4bd8-bcb6-04c7acdcb31c",
   "metadata": {},
   "outputs": [
    {
     "name": "stdout",
     "output_type": "stream",
     "text": [
      "tensor([1., 1., 1., 1., 1.])\n",
      "[1. 1. 1. 1. 1.]\n"
     ]
    }
   ],
   "source": [
    "a = torch.ones(5)\n",
    "print(a)\n",
    "b = a.numpy()\n",
    "print(b)\n",
    "# this is sharing same memory in cpu"
   ]
  },
  {
   "cell_type": "markdown",
   "id": "062dd20d-16b1-4b38-a49b-c110d361f7b2",
   "metadata": {},
   "source": [
    "Create tensor from numpy"
   ]
  },
  {
   "cell_type": "code",
   "execution_count": 29,
   "id": "372a7cd6-43a3-48a3-b955-7aa0a1584b98",
   "metadata": {},
   "outputs": [
    {
     "name": "stdout",
     "output_type": "stream",
     "text": [
      "[1. 1. 1. 1. 1.]\n",
      "tensor([1., 1., 1., 1., 1.], dtype=torch.float64)\n"
     ]
    }
   ],
   "source": [
    "a = np.ones(5)\n",
    "print(a)\n",
    "b = torch.from_numpy(a)\n",
    "print(b)\n"
   ]
  },
  {
   "cell_type": "markdown",
   "id": "71e4d7c9-19de-4227-b9a2-f79f0004a79b",
   "metadata": {},
   "source": [
    "---"
   ]
  },
  {
   "cell_type": "code",
   "execution_count": null,
   "id": "7f471a9c-3898-44e7-8be2-9c426d3a3ff6",
   "metadata": {},
   "outputs": [],
   "source": []
  }
 ],
 "metadata": {
  "kernelspec": {
   "display_name": "Python 3 (ipykernel)",
   "language": "python",
   "name": "python3"
  },
  "language_info": {
   "codemirror_mode": {
    "name": "ipython",
    "version": 3
   },
   "file_extension": ".py",
   "mimetype": "text/x-python",
   "name": "python",
   "nbconvert_exporter": "python",
   "pygments_lexer": "ipython3",
   "version": "3.8.5"
  }
 },
 "nbformat": 4,
 "nbformat_minor": 5
}
