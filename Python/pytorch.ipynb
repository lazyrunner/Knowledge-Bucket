{
 "cells": [
  {
   "cell_type": "markdown",
   "id": "6de7c80b-0ef4-4bff-b867-f51131d1a583",
   "metadata": {},
   "source": [
    "# Tutorial for pytorch"
   ]
  },
  {
   "cell_type": "code",
   "execution_count": 1,
   "id": "b88acfd2-5bfd-4159-b4c0-5b998d92804a",
   "metadata": {},
   "outputs": [],
   "source": [
    "# To install\n",
    "# conda install pytorch torchvision torchaudio cpuonly -c pytorch\n",
    "import torch\n",
    "import numpy as np"
   ]
  },
  {
   "cell_type": "markdown",
   "id": "72df3943-7771-4f91-9eae-e3c01d76edbb",
   "metadata": {},
   "source": [
    "---"
   ]
  },
  {
   "cell_type": "markdown",
   "id": "7f918c67-5eee-4c6c-9e25-db7b570be3cd",
   "metadata": {},
   "source": [
    "## Tensor Basics"
   ]
  },
  {
   "cell_type": "markdown",
   "id": "67177830-6a22-48a5-8cb2-be0e8dbd9afc",
   "metadata": {},
   "source": [
    "In pytorch everything is tensor (similar to array)"
   ]
  },
  {
   "cell_type": "markdown",
   "id": "2f83d991-5bcf-4600-b8b5-93fb2c67f7c9",
   "metadata": {},
   "source": [
    "### Tensor creation"
   ]
  },
  {
   "cell_type": "code",
   "execution_count": 31,
   "id": "e7c05420-62df-4d7c-829a-cbffed28d322",
   "metadata": {},
   "outputs": [
    {
     "name": "stdout",
     "output_type": "stream",
     "text": [
      "tensor([-1.7401e-30])\n",
      "tensor([-4.6819e-02,  3.0630e-41, -3.3776e-02])\n",
      "tensor([[0.5844, 0.1893],\n",
      "        [0.3248, 0.2472]])\n",
      "tensor([[[0., 0.],\n",
      "         [0., 0.]],\n",
      "\n",
      "        [[0., 0.],\n",
      "         [0., 0.]]])\n",
      "tensor([[1., 1.],\n",
      "        [1., 1.]])\n",
      "tensor([2.5000, 4.0000, 6.0000])\n",
      "tensor([1., 1., 1., 1., 1.], requires_grad=True)\n"
     ]
    }
   ],
   "source": [
    "# create empty torch \n",
    "# scalar\n",
    "y = torch.empty(1)\n",
    "print(y)\n",
    "# 1D\n",
    "a = torch.empty(3)\n",
    "print(a)\n",
    "\n",
    "# 2D\n",
    "b = torch.rand(2,2)\n",
    "print(b)\n",
    "\n",
    "# 3D\n",
    "c = torch.zeros(2,2,2)\n",
    "print(c)\n",
    "\n",
    "# ones\n",
    "d = torch.ones(2,2)\n",
    "print(d)\n",
    "\n",
    "# create from list\n",
    "e = torch.tensor([2.5,4,6])\n",
    "print(e)\n",
    "\n",
    "# with gradient calculation\n",
    "x = torch.ones(5, requires_grad = True)\n",
    "print(x)"
   ]
  },
  {
   "cell_type": "markdown",
   "id": "916f5902-7b75-49cd-b15e-03f6ce74c0f5",
   "metadata": {},
   "source": [
    "### Tensor basic functions"
   ]
  },
  {
   "cell_type": "code",
   "execution_count": 22,
   "id": "1f2c9fb5-5479-4f01-b7ab-c4ffb5772bf5",
   "metadata": {},
   "outputs": [
    {
     "name": "stdout",
     "output_type": "stream",
     "text": [
      "torch.float32\n",
      "torch.Size([2, 2])\n",
      "tensor([0.7329, 0.9406])\n",
      "tensor(0.7329)\n",
      "0.7329225540161133\n"
     ]
    }
   ],
   "source": [
    "# see datatype\n",
    "print(a.dtype)\n",
    "\n",
    "# see size\n",
    "print(b.size())\n",
    "\n",
    "# slicing  - first row\n",
    "print(b[:,0])\n",
    "\n",
    "# get specific element\n",
    "print(b[0,0])\n",
    "\n",
    "# to get actual value in case of 1 element in tensor\n",
    "print(b[0,0].item())"
   ]
  },
  {
   "cell_type": "markdown",
   "id": "a946ec5b-0036-459c-934d-9ea22f64bb8f",
   "metadata": {},
   "source": [
    "### Tensor arithmetic function"
   ]
  },
  {
   "cell_type": "code",
   "execution_count": 23,
   "id": "1e456c0c-1a46-4e81-8d94-c0d43812d91d",
   "metadata": {},
   "outputs": [
    {
     "name": "stdout",
     "output_type": "stream",
     "text": [
      "tensor([[0.3713, 0.6690],\n",
      "        [0.7962, 0.4409]])\n",
      "tensor([[0.4985, 0.3516],\n",
      "        [0.0425, 0.4392]])\n",
      "tensor([[0.8698, 1.0206],\n",
      "        [0.8387, 0.8801]])\n",
      "tensor([[0.8698, 1.0206],\n",
      "        [0.8387, 0.8801]])\n",
      "tensor([[0.8698, 1.0206],\n",
      "        [0.8387, 0.8801]])\n"
     ]
    }
   ],
   "source": [
    "x = torch.rand(2,2)\n",
    "y = torch.rand(2,2)\n",
    "print(x)\n",
    "print(y)\n",
    "\n",
    "# adding \n",
    "z = x + y\n",
    "print(z)\n",
    "\n",
    "z = torch.add(x,y)\n",
    "print(z)\n",
    "\n",
    "# inplace addition\n",
    "y.add_(x)\n",
    "print(y)"
   ]
  },
  {
   "cell_type": "markdown",
   "id": "8fc0d45b-ae8f-47d3-9dc3-31f0d90e34bc",
   "metadata": {},
   "source": [
    " Function with ****_**** does inplace modification."
   ]
  },
  {
   "cell_type": "markdown",
   "id": "1232166a-48d4-49d9-87d3-31a6600cdfb1",
   "metadata": {},
   "source": [
    "### Reshaping tensor"
   ]
  },
  {
   "cell_type": "code",
   "execution_count": 24,
   "id": "ee0ec415-6fab-4729-807b-ff0e48f0d822",
   "metadata": {},
   "outputs": [
    {
     "name": "stdout",
     "output_type": "stream",
     "text": [
      "tensor([[0.1063, 0.5462, 0.6963, 0.0658],\n",
      "        [0.8511, 0.1301, 0.3168, 0.7867],\n",
      "        [0.0139, 0.1199, 0.3417, 0.1384],\n",
      "        [0.1743, 0.2331, 0.5830, 0.1837]])\n",
      "tensor([0.1063, 0.5462, 0.6963, 0.0658, 0.8511, 0.1301, 0.3168, 0.7867, 0.0139,\n",
      "        0.1199, 0.3417, 0.1384, 0.1743, 0.2331, 0.5830, 0.1837])\n",
      "tensor([[0.1063, 0.5462, 0.6963, 0.0658, 0.8511, 0.1301, 0.3168, 0.7867],\n",
      "        [0.0139, 0.1199, 0.3417, 0.1384, 0.1743, 0.2331, 0.5830, 0.1837]])\n"
     ]
    }
   ],
   "source": [
    "x = torch.rand(4,4)\n",
    "print(x)\n",
    "# make 1D\n",
    "y = x.view(16)\n",
    "print(y)\n",
    "\n",
    "# don't mention dimension\n",
    "y = x.view(-1,8)\n",
    "print(y)"
   ]
  },
  {
   "cell_type": "markdown",
   "id": "f9b4ffea-cfa7-484d-8867-a0d12c55dcec",
   "metadata": {},
   "source": [
    "---\n"
   ]
  },
  {
   "cell_type": "markdown",
   "id": "ff13afb5-ad33-49a6-980a-9bb5d932aa67",
   "metadata": {},
   "source": [
    "### Tensor and numpy"
   ]
  },
  {
   "cell_type": "markdown",
   "id": "7a6e5f78-4bbf-464d-9640-03eed39aa89f",
   "metadata": {},
   "source": [
    "Create numpy array from tensor"
   ]
  },
  {
   "cell_type": "code",
   "execution_count": 26,
   "id": "d856377f-d52f-4bd8-bcb6-04c7acdcb31c",
   "metadata": {},
   "outputs": [
    {
     "name": "stdout",
     "output_type": "stream",
     "text": [
      "tensor([1., 1., 1., 1., 1.])\n",
      "[1. 1. 1. 1. 1.]\n"
     ]
    }
   ],
   "source": [
    "a = torch.ones(5)\n",
    "print(a)\n",
    "b = a.numpy()\n",
    "print(b)\n",
    "# this is sharing same memory in cpu"
   ]
  },
  {
   "cell_type": "markdown",
   "id": "062dd20d-16b1-4b38-a49b-c110d361f7b2",
   "metadata": {},
   "source": [
    "Create tensor from numpy"
   ]
  },
  {
   "cell_type": "code",
   "execution_count": 29,
   "id": "372a7cd6-43a3-48a3-b955-7aa0a1584b98",
   "metadata": {},
   "outputs": [
    {
     "name": "stdout",
     "output_type": "stream",
     "text": [
      "[1. 1. 1. 1. 1.]\n",
      "tensor([1., 1., 1., 1., 1.], dtype=torch.float64)\n"
     ]
    }
   ],
   "source": [
    "a = np.ones(5)\n",
    "print(a)\n",
    "b = torch.from_numpy(a)\n",
    "print(b)\n"
   ]
  },
  {
   "cell_type": "markdown",
   "id": "71e4d7c9-19de-4227-b9a2-f79f0004a79b",
   "metadata": {},
   "source": [
    "---"
   ]
  },
  {
   "cell_type": "markdown",
   "id": "7ceaa86c-de14-421e-8671-8d0b778557fb",
   "metadata": {},
   "source": [
    "## Autograd package "
   ]
  },
  {
   "cell_type": "markdown",
   "id": "96a140dc-d87c-444f-baae-488be5e998b5",
   "metadata": {},
   "source": [
    "This is used to calculate gradient"
   ]
  },
  {
   "cell_type": "markdown",
   "id": "04e7cf50-ef46-44f6-bc6f-c1ca625db04b",
   "metadata": {},
   "source": [
    "### Track gradient"
   ]
  },
  {
   "cell_type": "code",
   "execution_count": 3,
   "id": "63c87504-296f-4af4-8a4e-f0e2cb1bf93c",
   "metadata": {},
   "outputs": [
    {
     "data": {
      "text/plain": [
       "tensor([-1.5533, -2.3376,  0.0516], requires_grad=True)"
      ]
     },
     "execution_count": 3,
     "metadata": {},
     "output_type": "execute_result"
    }
   ],
   "source": [
    "x = torch.randn(3, requires_grad = True)\n",
    "x"
   ]
  },
  {
   "cell_type": "markdown",
   "id": "a15f8da9-0fc5-4dde-a7b2-23a3c42caca1",
   "metadata": {},
   "source": [
    "***requires_grad*** helps pytorch to maintain computation graph for gradient."
   ]
  },
  {
   "cell_type": "markdown",
   "id": "3fe52a69-a1ac-43cc-a936-fe10cb747076",
   "metadata": {},
   "source": [
    "To calculate gradient let the function be a ***Add*** a scalar to the tensor."
   ]
  },
  {
   "cell_type": "code",
   "execution_count": 4,
   "id": "c935e4f9-c94f-45b1-8ebb-8a81cf0a4249",
   "metadata": {},
   "outputs": [
    {
     "data": {
      "text/plain": [
       "tensor([ 0.4467, -0.3376,  2.0516], grad_fn=<AddBackward0>)"
      ]
     },
     "execution_count": 4,
     "metadata": {},
     "output_type": "execute_result"
    }
   ],
   "source": [
    "y = x +2 \n",
    "y"
   ]
  },
  {
   "cell_type": "markdown",
   "id": "cba12271-e75d-469b-8d85-cda22186f905",
   "metadata": {},
   "source": [
    "**grad_fn** is the gradient function "
   ]
  },
  {
   "cell_type": "code",
   "execution_count": 5,
   "id": "38e2eb66-6011-4773-9366-e86fae2c0445",
   "metadata": {},
   "outputs": [
    {
     "data": {
      "text/plain": [
       "tensor([0.3991, 0.2279, 8.4183], grad_fn=<MulBackward0>)"
      ]
     },
     "execution_count": 5,
     "metadata": {},
     "output_type": "execute_result"
    }
   ],
   "source": [
    "z = y*y*2\n",
    "z"
   ]
  },
  {
   "cell_type": "markdown",
   "id": "f6321922-ad70-41ff-9e0a-58ebba77b81c",
   "metadata": {},
   "source": [
    "### Calculate gradient of a scalar"
   ]
  },
  {
   "cell_type": "code",
   "execution_count": 6,
   "id": "8ca14363-3e24-4c5e-8c94-217849e8591d",
   "metadata": {},
   "outputs": [
    {
     "data": {
      "text/plain": [
       "tensor(3.0151, grad_fn=<MeanBackward0>)"
      ]
     },
     "execution_count": 6,
     "metadata": {},
     "output_type": "execute_result"
    }
   ],
   "source": [
    "z = z.mean()\n",
    "z"
   ]
  },
  {
   "cell_type": "markdown",
   "id": "4f112ab8-0984-479d-9ca2-d0a761749d92",
   "metadata": {},
   "source": [
    "To calculate the gradient"
   ]
  },
  {
   "cell_type": "code",
   "execution_count": 7,
   "id": "c3ddeec1-5da5-4b8d-9bcd-b16d0a10d468",
   "metadata": {},
   "outputs": [
    {
     "name": "stdout",
     "output_type": "stream",
     "text": [
      "tensor([ 0.5956, -0.4501,  2.7355])\n"
     ]
    }
   ],
   "source": [
    "z.backward() # dz/dx\n",
    "print(x.grad) # if z is scalar"
   ]
  },
  {
   "cell_type": "markdown",
   "id": "48ed0d39-0f52-4f44-bca1-2e8084763668",
   "metadata": {},
   "source": [
    "### Calculate gradient of a vector"
   ]
  },
  {
   "cell_type": "code",
   "execution_count": 8,
   "id": "9b3e04a6-df10-4fc1-9be6-906f9b620b06",
   "metadata": {},
   "outputs": [
    {
     "data": {
      "text/plain": [
       "tensor([ 0.4467, -0.3376,  2.0516], grad_fn=<AddBackward0>)"
      ]
     },
     "execution_count": 8,
     "metadata": {},
     "output_type": "execute_result"
    }
   ],
   "source": [
    "y"
   ]
  },
  {
   "cell_type": "code",
   "execution_count": 10,
   "id": "a4ace7f8-77d4-4fa7-916e-43bec38e2787",
   "metadata": {},
   "outputs": [
    {
     "name": "stdout",
     "output_type": "stream",
     "text": [
      "tensor([0.6956, 0.5499, 2.8355])\n"
     ]
    }
   ],
   "source": [
    "# we need to have a vector \n",
    "v = torch.tensor([0.1,1.0,00.1], dtype=torch.float32)\n",
    "y.backward(v)\n",
    "print(x.grad)"
   ]
  },
  {
   "cell_type": "markdown",
   "id": "5a89e42e-4fe6-4edf-a3e6-1db0eaec1b3f",
   "metadata": {},
   "source": [
    "### Untracking gradients"
   ]
  },
  {
   "cell_type": "code",
   "execution_count": 11,
   "id": "f4d32613-bf99-48bf-b80a-10b8ed8f8dbb",
   "metadata": {},
   "outputs": [
    {
     "data": {
      "text/plain": [
       "tensor([-1.5533, -2.3376,  0.0516])"
      ]
     },
     "execution_count": 11,
     "metadata": {},
     "output_type": "execute_result"
    }
   ],
   "source": [
    "# Option 1\n",
    "x.requires_grad_(False)\n",
    "x # removes the grad attribute"
   ]
  },
  {
   "cell_type": "code",
   "execution_count": 12,
   "id": "9e4b3496-4008-49e8-8697-292bb8bc370b",
   "metadata": {},
   "outputs": [
    {
     "data": {
      "text/plain": [
       "(tensor([ 1.3655, -0.2136, -2.5621], requires_grad=True),\n",
       " tensor([ 1.3655, -0.2136, -2.5621]))"
      ]
     },
     "execution_count": 12,
     "metadata": {},
     "output_type": "execute_result"
    }
   ],
   "source": [
    "# Option 2\n",
    "x = torch.randn(3, requires_grad = True)\n",
    "y = x.detach() # creates new tensor which does not track\n",
    "x,y"
   ]
  },
  {
   "cell_type": "code",
   "execution_count": 14,
   "id": "3c3ee258-7d3c-4fcf-906e-6aec4d247b85",
   "metadata": {},
   "outputs": [
    {
     "name": "stdout",
     "output_type": "stream",
     "text": [
      "tensor([3.3558, 3.0985, 2.1611])\n"
     ]
    }
   ],
   "source": [
    "# Option 3\n",
    "x = torch.randn(3, requires_grad = True)\n",
    "with torch.no_grad():\n",
    "    y = x+2\n",
    "    print(y)"
   ]
  },
  {
   "cell_type": "markdown",
   "id": "1027e3ae-d933-421c-b1de-624c7d3b5bd9",
   "metadata": {},
   "source": [
    "### Functioning of backward() and grad"
   ]
  },
  {
   "cell_type": "code",
   "execution_count": 15,
   "id": "2aaef0b6-11bc-438c-8b96-dbc596900e57",
   "metadata": {},
   "outputs": [
    {
     "name": "stdout",
     "output_type": "stream",
     "text": [
      "tensor([3., 3., 3., 3.])\n",
      "tensor([6., 6., 6., 6.])\n"
     ]
    }
   ],
   "source": [
    "weights = torch.ones(4, requires_grad = True)\n",
    "\n",
    "for epoch in range(2):\n",
    "    model_output = (weights*3).sum()\n",
    "    \n",
    "    model_output.backward()\n",
    "    \n",
    "    print(weights.grad)\n",
    "    # all weights are summed up\n",
    "  \n",
    "    "
   ]
  },
  {
   "cell_type": "code",
   "execution_count": 16,
   "id": "f5737651-99d8-4a43-a540-5bd06f2e2457",
   "metadata": {},
   "outputs": [
    {
     "name": "stdout",
     "output_type": "stream",
     "text": [
      "tensor([3., 3., 3., 3.])\n",
      "tensor([3., 3., 3., 3.])\n"
     ]
    }
   ],
   "source": [
    "weights = torch.ones(4, requires_grad = True)\n",
    "\n",
    "for epoch in range(2):\n",
    "    model_output = (weights*3).sum()\n",
    "    \n",
    "    model_output.backward()\n",
    "    \n",
    "    print(weights.grad)\n",
    "    \n",
    "    weights.grad.zero_()\n",
    "    # so for proper calculation, we need to make the grads zero"
   ]
  },
  {
   "cell_type": "code",
   "execution_count": null,
   "id": "c744d915-5972-4179-b789-efc4f62a66cb",
   "metadata": {},
   "outputs": [],
   "source": []
  }
 ],
 "metadata": {
  "kernelspec": {
   "display_name": "Python 3 (ipykernel)",
   "language": "python",
   "name": "python3"
  },
  "language_info": {
   "codemirror_mode": {
    "name": "ipython",
    "version": 3
   },
   "file_extension": ".py",
   "mimetype": "text/x-python",
   "name": "python",
   "nbconvert_exporter": "python",
   "pygments_lexer": "ipython3",
   "version": "3.8.5"
  }
 },
 "nbformat": 4,
 "nbformat_minor": 5
}
